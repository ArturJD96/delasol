{
 "cells": [
  {
   "cell_type": "markdown",
   "metadata": {},
   "source": [
    "# Batch processing"
   ]
  },
  {
   "cell_type": "markdown",
   "metadata": {},
   "source": [
    "Quick script to export musescore files to musicxml and pdf"
   ]
  },
  {
   "cell_type": "code",
   "execution_count": 1,
   "metadata": {},
   "outputs": [],
   "source": [
    "import glob\n",
    "import os\n",
    "import subprocess\n",
    "import yaml\n",
    "from datetime import datetime\n",
    "import pandas as pd\n",
    "import seaborn as sns\n",
    "import music21\n",
    "from music21.metadata import Metadata\n",
    "\n",
    "import sys\n",
    "sys.path.append('../')\n",
    "from solmization import solmize\n",
    "\n",
    "CORPUS_DIR = '/Users/bas/surfdrive/Research/Guidonian Hand/Corpus'\n",
    "MSCORE = '/Applications/MuseScore 4.app/Contents/MacOS/mscore'\n",
    "MdB_DIR = f'{CORPUS_DIR}/Marot & de Bèze'\n",
    "SH_DIR = f'{CORPUS_DIR}/Sternhold & Hopkins'\n",
    "SMITH_DIR = f'{CORPUS_DIR}/Smith'"
   ]
  },
  {
   "cell_type": "markdown",
   "metadata": {},
   "source": [
    "## Export museScore to musicxml and pdf"
   ]
  },
  {
   "cell_type": "code",
   "execution_count": null,
   "metadata": {},
   "outputs": [],
   "source": [
    "def export_source(source_dir, target_ext='musicxml', refresh=False):\n",
    "    files = sorted(glob.glob(f'{source_dir}/musescore/*.mscz'))\n",
    "    if not os.path.exists(f'{source_dir}/{target_ext}'):\n",
    "        os.makedirs(f'{source_dir}/{target_ext}')\n",
    "    for file in files:\n",
    "        name, _ =  os.path.basename(file).split('.')\n",
    "        target = f'{source_dir}/{target_ext}/{name}.{target_ext}'\n",
    "        \n",
    "        if name.endswith('-draft'):\n",
    "            continue\n",
    "\n",
    "        if not os.path.exists(target) or refresh:\n",
    "            result = subprocess.run([MSCORE, '-o', target, file])\n",
    "            print(result)"
   ]
  },
  {
   "cell_type": "code",
   "execution_count": null,
   "metadata": {},
   "outputs": [],
   "source": [
    "sources = glob.glob(f'{CORPUS_DIR}/**')\n",
    "refresh = False\n",
    "for source_dir in sources:\n",
    "    export_source(source_dir, target_ext='musicxml', refresh=refresh)\n",
    "    export_source(source_dir, target_ext='pdf', refresh=refresh)"
   ]
  },
  {
   "cell_type": "code",
   "execution_count": null,
   "metadata": {},
   "outputs": [],
   "source": [
    "goudimel_fn = f'{SMITH_DIR}/musicxml/goudimel.musicxml'\n",
    "isaac_fn = f'{SMITH_DIR}/musicxml/isaac.musicxml'\n",
    "smith_files = dict(goudimel=goudimel_fn, isaac= isaac_fn)\n",
    "target_dir = f'{SMITH_DIR}/evaluation'\n",
    "\n",
    "for name, source_fn in smith_files.items():\n",
    "    score = music21.converter.parse(source_fn)\n",
    "    for part in score.parts:\n",
    "        id = f'{name}-{part.id.lower()}'\n"
   ]
  },
  {
   "cell_type": "markdown",
   "metadata": {},
   "source": [
    "## Evaluate"
   ]
  },
  {
   "cell_type": "markdown",
   "metadata": {},
   "source": [
    "### Processing code"
   ]
  },
  {
   "cell_type": "code",
   "execution_count": 2,
   "metadata": {},
   "outputs": [],
   "source": [
    "def process_evaluation(eval):\n",
    "    for key in ['correct', 'missing', 'insertion', 'deletion', 'incorrect']:\n",
    "        eval[key] = eval.get(key, 0)\n",
    "    eval['num_notes'] = sum(eval.values())\n",
    "    eval['num_syllables'] = eval['num_notes'] - eval['missing']\n",
    "    # Don't count missing syllables as a mistake\n",
    "    eval['accuracy'] = eval['correct'] / eval['num_syllables']\n",
    "    report = f\"Accuracy best solmization: {eval['accuracy']:.0%}\"\n",
    "    errors = [f'{eval[k]} {k}' for k in ['incorrect', 'missing', 'insertion', 'deletion'] if eval[k] > 0]\n",
    "    if len(errors) > 0: report += f' ({\", \".join(errors)})'\n",
    "    return report\n",
    "\n",
    "def process_stream(stream, style, target_lyrics, annot_kws={}, title=None, version=None, **kwargs):\n",
    "    solmization = solmize(stream, style, gamut=None)\n",
    "    solmization.annotate(target_lyrics=target_lyrics, **annot_kws)\n",
    "    eval = solmization.evaluate(target_lyrics=target_lyrics)\n",
    "    report = process_evaluation(eval)\n",
    "    if version is None: \n",
    "        now = datetime.now().strftime(\"%d-%m-%Y\")\n",
    "        version = f'Generated on {now}'\n",
    "    metadata = dict(title=title, composer=version)\n",
    "    stream.metadata = Metadata(lyricist=report, **metadata)\n",
    "    return stream, solmization, eval"
   ]
  },
  {
   "cell_type": "code",
   "execution_count": 3,
   "metadata": {},
   "outputs": [],
   "source": [
    "def batch_process(source_files, target_dir, processor, refresh=False, version=None, remove_musicxml=True):\n",
    "    if not os.path.exists(target_dir):\n",
    "        os.makedirs(target_dir)\n",
    "    evaluation = dict(\n",
    "        date = datetime.now().strftime('%Y-%m-%d %H:%M:%S'),\n",
    "        num_works = len(source_files),\n",
    "        errors = {},\n",
    "        works = {}\n",
    "    )\n",
    "    for source_fn in source_files:\n",
    "        id = os.path.basename(source_fn).split('.')[0]\n",
    "        target_pdf = f'{target_dir}/{id}.pdf'\n",
    "        target_musicxml = f'{target_dir}/{id}.musicxml'\n",
    "        if not os.path.exists(target_pdf) or refresh:\n",
    "            try:\n",
    "                score, _, eval = processor(source_fn, version=version)\n",
    "                score.write('musicxml.pdf', target_pdf)\n",
    "                if remove_musicxml:\n",
    "                    os.remove(target_musicxml)\n",
    "                evaluation['works'][id] = eval\n",
    "            except Exception as e:\n",
    "                evaluation['errors'][id] = str(e)\n",
    "                print('An error occurred processing', source_fn)\n",
    "    \n",
    "    evaluation['num_errors'] = len(evaluation['errors'])\n",
    "    with open(f'{target_dir}/evaluation.yaml', 'w') as yaml_file:\n",
    "        yaml.dump(evaluation, yaml_file)\n"
   ]
  },
  {
   "cell_type": "code",
   "execution_count": 4,
   "metadata": {},
   "outputs": [],
   "source": [
    "def load_evaluation(yaml_fn, print_results=True, percentiles = [1, .95, .9, .85, .8]):\n",
    "    with open(yaml_fn, 'r') as yaml_file:\n",
    "        evaluation = yaml.safe_load(yaml_file)\n",
    "    df = pd.DataFrame(evaluation['works']).T.fillna(0)\n",
    "    df['perc_incorrect'] = df['incorrect'] / df['num_notes']\n",
    "    df['perc_missing'] = df['missing'] / df['num_notes']\n",
    "\n",
    "    if print_results:\n",
    "        total_notes =  df['num_notes'].sum()\n",
    "        total_correct = df['correct'].sum()\n",
    "        total_errors = total_notes - total_correct\n",
    "        print(f'Total number of notes: {total_notes}')\n",
    "        print(f'Total number of correct notes: {total_correct} ({total_correct / total_notes:.0%})')\n",
    "        print(f'Total number of errors: {total_errors} ({total_errors/total_notes:.0%})')\n",
    "        for percentile in percentiles:\n",
    "            count = sum(df['accuracy'] >= percentile)\n",
    "            print(f'Works with >= {percentile*100}% accuracy: {count} ({count/len(df):.0%})')\n",
    "\n",
    "    return df, evaluation"
   ]
  },
  {
   "cell_type": "markdown",
   "metadata": {},
   "source": [
    "### Marot and de Beze"
   ]
  },
  {
   "cell_type": "code",
   "execution_count": 5,
   "metadata": {},
   "outputs": [],
   "source": [
    "def process_MdB_work(source_fn, version=None):\n",
    "    id = os.path.basename(source_fn).split('.')[0]\n",
    "    score = music21.converter.parse(source_fn)\n",
    "    return process_stream(\n",
    "        score, \n",
    "        style='continental',\n",
    "        target_lyrics=2,\n",
    "        annot_kws = dict(lyric_offset=3, grey_lyrics_num=1),\n",
    "        title=f'MdB — Psalm {id[3:]}',\n",
    "        version=version\n",
    "    )\n",
    "\n",
    "# source_fn = f\"{MdB_DIR}/musicxml/MdB018.musicxml\"\n",
    "# score, _, eval = process_MdB_work(source_fn)"
   ]
  },
  {
   "cell_type": "code",
   "execution_count": 6,
   "metadata": {},
   "outputs": [],
   "source": [
    "mdb_meta = yaml.safe_load(open(f'{MdB_DIR}/collection.yaml', 'r'))\n",
    "mdb_files = []\n",
    "for work in mdb_meta['works']:\n",
    "    mdb_files.append(f\"{MdB_DIR}/musicxml/{work['id']}.musicxml\")\n",
    "\n",
    "batch_process(\n",
    "    source_files = mdb_files, \n",
    "    target_dir = f'{MdB_DIR}/evaluation-3', \n",
    "    processor=process_MdB_work,\n",
    "    refresh=True)"
   ]
  },
  {
   "cell_type": "code",
   "execution_count": 7,
   "metadata": {},
   "outputs": [
    {
     "name": "stdout",
     "output_type": "stream",
     "text": [
      "Total number of notes: 1602.0\n",
      "Total number of correct notes: 1579.0 (99%)\n",
      "Total number of errors: 23.0 (1%)\n",
      "Works with >= 100% accuracy: 18 (69%)\n",
      "Works with >= 95.0% accuracy: 22 (85%)\n",
      "Works with >= 90.0% accuracy: 26 (100%)\n",
      "Works with >= 85.0% accuracy: 26 (100%)\n",
      "Works with >= 80.0% accuracy: 26 (100%)\n"
     ]
    },
    {
     "data": {
      "text/html": [
       "<div>\n",
       "<style scoped>\n",
       "    .dataframe tbody tr th:only-of-type {\n",
       "        vertical-align: middle;\n",
       "    }\n",
       "\n",
       "    .dataframe tbody tr th {\n",
       "        vertical-align: top;\n",
       "    }\n",
       "\n",
       "    .dataframe thead th {\n",
       "        text-align: right;\n",
       "    }\n",
       "</style>\n",
       "<table border=\"1\" class=\"dataframe\">\n",
       "  <thead>\n",
       "    <tr style=\"text-align: right;\">\n",
       "      <th></th>\n",
       "      <th>accuracy</th>\n",
       "      <th>correct</th>\n",
       "      <th>deletion</th>\n",
       "      <th>incorrect</th>\n",
       "      <th>insertion</th>\n",
       "      <th>missing</th>\n",
       "      <th>num_notes</th>\n",
       "      <th>num_syllables</th>\n",
       "      <th>perc_incorrect</th>\n",
       "      <th>perc_missing</th>\n",
       "    </tr>\n",
       "  </thead>\n",
       "  <tbody>\n",
       "    <tr>\n",
       "      <th>count</th>\n",
       "      <td>26.000000</td>\n",
       "      <td>26.000000</td>\n",
       "      <td>26.0</td>\n",
       "      <td>26.000000</td>\n",
       "      <td>26.0</td>\n",
       "      <td>26.000000</td>\n",
       "      <td>26.000000</td>\n",
       "      <td>26.000000</td>\n",
       "      <td>26.000000</td>\n",
       "      <td>26.000000</td>\n",
       "    </tr>\n",
       "    <tr>\n",
       "      <th>mean</th>\n",
       "      <td>0.985206</td>\n",
       "      <td>60.730769</td>\n",
       "      <td>0.0</td>\n",
       "      <td>0.807692</td>\n",
       "      <td>0.0</td>\n",
       "      <td>0.076923</td>\n",
       "      <td>61.615385</td>\n",
       "      <td>61.538462</td>\n",
       "      <td>0.014774</td>\n",
       "      <td>0.001221</td>\n",
       "    </tr>\n",
       "    <tr>\n",
       "      <th>std</th>\n",
       "      <td>0.025096</td>\n",
       "      <td>20.304793</td>\n",
       "      <td>0.0</td>\n",
       "      <td>1.327230</td>\n",
       "      <td>0.0</td>\n",
       "      <td>0.271746</td>\n",
       "      <td>20.042110</td>\n",
       "      <td>20.038425</td>\n",
       "      <td>0.025081</td>\n",
       "      <td>0.004315</td>\n",
       "    </tr>\n",
       "    <tr>\n",
       "      <th>min</th>\n",
       "      <td>0.928571</td>\n",
       "      <td>34.000000</td>\n",
       "      <td>0.0</td>\n",
       "      <td>0.000000</td>\n",
       "      <td>0.0</td>\n",
       "      <td>0.000000</td>\n",
       "      <td>34.000000</td>\n",
       "      <td>34.000000</td>\n",
       "      <td>0.000000</td>\n",
       "      <td>0.000000</td>\n",
       "    </tr>\n",
       "    <tr>\n",
       "      <th>25%</th>\n",
       "      <td>0.974517</td>\n",
       "      <td>42.250000</td>\n",
       "      <td>0.0</td>\n",
       "      <td>0.000000</td>\n",
       "      <td>0.0</td>\n",
       "      <td>0.000000</td>\n",
       "      <td>42.250000</td>\n",
       "      <td>42.250000</td>\n",
       "      <td>0.000000</td>\n",
       "      <td>0.000000</td>\n",
       "    </tr>\n",
       "    <tr>\n",
       "      <th>50%</th>\n",
       "      <td>1.000000</td>\n",
       "      <td>60.500000</td>\n",
       "      <td>0.0</td>\n",
       "      <td>0.000000</td>\n",
       "      <td>0.0</td>\n",
       "      <td>0.000000</td>\n",
       "      <td>62.500000</td>\n",
       "      <td>62.500000</td>\n",
       "      <td>0.000000</td>\n",
       "      <td>0.000000</td>\n",
       "    </tr>\n",
       "    <tr>\n",
       "      <th>75%</th>\n",
       "      <td>1.000000</td>\n",
       "      <td>72.000000</td>\n",
       "      <td>0.0</td>\n",
       "      <td>1.750000</td>\n",
       "      <td>0.0</td>\n",
       "      <td>0.000000</td>\n",
       "      <td>72.750000</td>\n",
       "      <td>72.750000</td>\n",
       "      <td>0.025483</td>\n",
       "      <td>0.000000</td>\n",
       "    </tr>\n",
       "    <tr>\n",
       "      <th>max</th>\n",
       "      <td>1.000000</td>\n",
       "      <td>126.000000</td>\n",
       "      <td>0.0</td>\n",
       "      <td>4.000000</td>\n",
       "      <td>0.0</td>\n",
       "      <td>1.000000</td>\n",
       "      <td>126.000000</td>\n",
       "      <td>126.000000</td>\n",
       "      <td>0.071429</td>\n",
       "      <td>0.016129</td>\n",
       "    </tr>\n",
       "  </tbody>\n",
       "</table>\n",
       "</div>"
      ],
      "text/plain": [
       "        accuracy     correct  deletion  incorrect  insertion    missing  \\\n",
       "count  26.000000   26.000000      26.0  26.000000       26.0  26.000000   \n",
       "mean    0.985206   60.730769       0.0   0.807692        0.0   0.076923   \n",
       "std     0.025096   20.304793       0.0   1.327230        0.0   0.271746   \n",
       "min     0.928571   34.000000       0.0   0.000000        0.0   0.000000   \n",
       "25%     0.974517   42.250000       0.0   0.000000        0.0   0.000000   \n",
       "50%     1.000000   60.500000       0.0   0.000000        0.0   0.000000   \n",
       "75%     1.000000   72.000000       0.0   1.750000        0.0   0.000000   \n",
       "max     1.000000  126.000000       0.0   4.000000        0.0   1.000000   \n",
       "\n",
       "        num_notes  num_syllables  perc_incorrect  perc_missing  \n",
       "count   26.000000      26.000000       26.000000     26.000000  \n",
       "mean    61.615385      61.538462        0.014774      0.001221  \n",
       "std     20.042110      20.038425        0.025081      0.004315  \n",
       "min     34.000000      34.000000        0.000000      0.000000  \n",
       "25%     42.250000      42.250000        0.000000      0.000000  \n",
       "50%     62.500000      62.500000        0.000000      0.000000  \n",
       "75%     72.750000      72.750000        0.025483      0.000000  \n",
       "max    126.000000     126.000000        0.071429      0.016129  "
      ]
     },
     "execution_count": 7,
     "metadata": {},
     "output_type": "execute_result"
    }
   ],
   "source": [
    "df, evaluation = load_evaluation(f'{MdB_DIR}/evaluation-3/evaluation.yaml')\n",
    "df.describe()"
   ]
  },
  {
   "cell_type": "code",
   "execution_count": 8,
   "metadata": {},
   "outputs": [
    {
     "data": {
      "text/plain": [
       "<Axes: >"
      ]
     },
     "execution_count": 8,
     "metadata": {},
     "output_type": "execute_result"
    },
    {
     "data": {
      "image/png": "[encoded data removed]",
      "text/plain": [
       "<Figure size 640x480 with 1 Axes>"
      ]
     },
     "metadata": {
      "image/png": {
       "height": 413,
       "width": 547
      }
     },
     "output_type": "display_data"
    }
   ],
   "source": [
    "sns.violinplot(data=df[['accuracy', 'perc_missing', 'perc_incorrect']], inner='point', cut=0)"
   ]
  },
  {
   "cell_type": "markdown",
   "metadata": {},
   "source": [
    "### Sternhold and Hopkins"
   ]
  },
  {
   "cell_type": "code",
   "execution_count": 9,
   "metadata": {},
   "outputs": [],
   "source": [
    "def process_SH_work(source_fn, version=None):\n",
    "    id = os.path.basename(source_fn).split('.')[0]\n",
    "    score = music21.converter.parse(source_fn)\n",
    "    return process_stream(\n",
    "        score, \n",
    "        style='english',\n",
    "        target_lyrics=2,\n",
    "        annot_kws = dict(lyric_offset=3, grey_lyrics_num=1),\n",
    "        title=f'SH — Psalm {id[2:]}',\n",
    "        version=version\n",
    "    )\n",
    "\n",
    "# source_fn = f'{SH_DIR}/musicxml/SH001.musicxml'\n",
    "# score, _, eval = process_SH_work(source_fn)"
   ]
  },
  {
   "cell_type": "code",
   "execution_count": 10,
   "metadata": {},
   "outputs": [],
   "source": [
    "sh_meta = yaml.safe_load(open(f'{SH_DIR}/collection.yaml', 'r'))\n",
    "sh_files = []\n",
    "for works in sh_meta['works']:\n",
    "    sh_files.append(f\"{SH_DIR}/musicxml/{works['id']}.musicxml\")\n",
    "\n",
    "batch_process(\n",
    "    source_files = sh_files, \n",
    "    target_dir = f'{SH_DIR}/evaluation-1', \n",
    "    processor=process_SH_work,\n",
    "    refresh=True)"
   ]
  },
  {
   "cell_type": "code",
   "execution_count": null,
   "metadata": {},
   "outputs": [],
   "source": [
    "sh_df, sh_evaluation = load_evaluation(f'{SH_DIR}/evaluation/evaluation.yaml')\n",
    "sh_df.describe()"
   ]
  },
  {
   "cell_type": "code",
   "execution_count": null,
   "metadata": {},
   "outputs": [],
   "source": [
    "sh_df"
   ]
  },
  {
   "cell_type": "code",
   "execution_count": null,
   "metadata": {},
   "outputs": [],
   "source": [
    "sns.violinplot(data=sh_df[['accuracy', 'perc_missing', 'perc_incorrect']], inner='point', cut=0)"
   ]
  },
  {
   "cell_type": "markdown",
   "metadata": {},
   "source": [
    "### Smith"
   ]
  },
  {
   "cell_type": "code",
   "execution_count": 11,
   "metadata": {},
   "outputs": [],
   "source": [
    "def process_smith_work(source_fn, version=None):\n",
    "    score = music21.converter.parse(source_fn)\n",
    "    id = os.path.basename(source_fn).split('.')[0]\n",
    "    piece, voice = id.split('-')\n",
    "    return process_stream(\n",
    "        score, \n",
    "        style='continental',\n",
    "        target_lyrics=1,\n",
    "        annot_kws = dict(lyric_offset=3),\n",
    "        title=f'{piece.title()} {voice.lower()}',\n",
    "        version=version\n",
    "    )\n",
    "\n",
    "# source_fn = f'{SMITH_DIR}/musicxml/goudimel-Alto.musicxml'\n",
    "# score, _, eval = process_smith_work(source_fn)"
   ]
  },
  {
   "cell_type": "code",
   "execution_count": 12,
   "metadata": {},
   "outputs": [],
   "source": [
    "smith_meta = yaml.safe_load(open(f'{SMITH_DIR}/collection.yaml', 'r'))\n",
    "smith_files = []\n",
    "for works in smith_meta['works']:\n",
    "    smith_files.append(f\"{SMITH_DIR}/musicxml/{works['id']}.musicxml\")\n",
    "\n",
    "batch_process(\n",
    "    source_files = smith_files, \n",
    "    target_dir = f'{SMITH_DIR}/evaluation-1', \n",
    "    processor=process_smith_work,\n",
    "    remove_musicxml=False,\n",
    "    refresh=True)"
   ]
  },
  {
   "cell_type": "code",
   "execution_count": null,
   "metadata": {},
   "outputs": [],
   "source": [
    "smith_df, smith_evaluation = load_evaluation(f'{SMITH_DIR}/evaluation/evaluation.yaml')\n",
    "smith_df.describe()"
   ]
  },
  {
   "cell_type": "markdown",
   "metadata": {},
   "source": []
  },
  {
   "cell_type": "code",
   "execution_count": null,
   "metadata": {},
   "outputs": [],
   "source": [
    "smith_df"
   ]
  },
  {
   "cell_type": "code",
   "execution_count": null,
   "metadata": {},
   "outputs": [],
   "source": [
    "goudimel_fn = f'{SMITH_DIR}/musicxml/goudimel.musicxml'\n",
    "isaac_fn = f'{SMITH_DIR}/musicxml/isaac.musicxml'\n",
    "smith_files = dict(goudimel=goudimel_fn, isaac= isaac_fn)\n",
    "target_dir = f'{SMITH_DIR}/evaluation', \n",
    "for name, source_fn in smith_files.items():\n",
    "    score = music21.converter.parse(source_fn)\n",
    "    evaluations = []\n",
    "    for part in score.parts:\n",
    "        try: \n",
    "            solmization = solmize(part, style=\"continental\")\n",
    "            solmization.annotate(target_lyrics=1, best_only=True)\n",
    "            evaluations.append(solmization.evaluate(target_lyrics=1))\n",
    "        except Exception as e:\n",
    "            print('skipping part...', part, e)\n",
    "\n",
    "    target_pdf = f'{SMITH_DIR}/evaluation/{name}.pdf'\n",
    "    score.write('musicxml.pdf', target_pdf)\n",
    "    os.remove(f'{SMITH_DIR}/evaluation/{name}.musicxml')"
   ]
  }
 ],
 "metadata": {
  "kernelspec": {
   "display_name": "env",
   "language": "python",
   "name": "python3"
  },
  "language_info": {
   "codemirror_mode": {
    "name": "ipython",
    "version": 3
   },
   "file_extension": ".py",
   "mimetype": "text/x-python",
   "name": "python",
   "nbconvert_exporter": "python",
   "pygments_lexer": "ipython3",
   "version": "3.9.5"
  }
 },
 "nbformat": 4,
 "nbformat_minor": 2
}
