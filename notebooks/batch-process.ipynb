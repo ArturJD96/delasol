{
 "cells": [
  {
   "cell_type": "markdown",
   "metadata": {},
   "source": [
    "# Export musescore files"
   ]
  },
  {
   "cell_type": "markdown",
   "metadata": {},
   "source": [
    "Quick script to export musescore files to musicxml and pdf"
   ]
  },
  {
   "cell_type": "code",
   "execution_count": 1,
   "metadata": {},
   "outputs": [],
   "source": [
    "import glob\n",
    "import os\n",
    "import subprocess\n",
    "import yaml\n",
    "import music21\n",
    "\n",
    "import sys\n",
    "sys.path.append('../')\n",
    "from hexachord.solmization import Solmization"
   ]
  },
  {
   "cell_type": "code",
   "execution_count": 2,
   "metadata": {},
   "outputs": [],
   "source": [
    "CORPUS_DIR = '/Users/bas/surfdrive/Research/Guidonian Hand/Corpus'\n",
    "MSCORE = '/Applications/MuseScore 4.app/Contents/MacOS/mscore'\n",
    "MdB_DIR = f'{CORPUS_DIR}/Marot & de Bèze'"
   ]
  },
  {
   "cell_type": "markdown",
   "metadata": {},
   "source": [
    "## MuseScore to musicxml and pdf"
   ]
  },
  {
   "cell_type": "code",
   "execution_count": 3,
   "metadata": {},
   "outputs": [],
   "source": [
    "def export_source(source_dir, target_ext='musicxml', refresh=False):\n",
    "    files = sorted(glob.glob(f'{source_dir}/musescore/*.mscz'))\n",
    "    if not os.path.exists(f'{source_dir}/{target_ext}'):\n",
    "        os.makedirs(f'{source_dir}/{target_ext}')\n",
    "    for file in files:\n",
    "        name, _ =  os.path.basename(file).split('.')\n",
    "        target = f'{source_dir}/{target_ext}/{name}.{target_ext}'\n",
    "        \n",
    "        if name.endswith('-draft'):\n",
    "            continue\n",
    "\n",
    "        if not os.path.exists(target) or refresh:\n",
    "            result = subprocess.run([MSCORE, '-o', target, file])\n",
    "            print(result)"
   ]
  },
  {
   "cell_type": "code",
   "execution_count": 8,
   "metadata": {},
   "outputs": [
    {
     "name": "stdout",
     "output_type": "stream",
     "text": [
      "CompletedProcess(args=['/Applications/MuseScore 4.app/Contents/MacOS/mscore', '-o', '/Users/bas/surfdrive/Research/Guidonian Hand/Corpus/Marot & de Bèze/musicxml/MdB007.musicxml', '/Users/bas/surfdrive/Research/Guidonian Hand/Corpus/Marot & de Bèze/musescore/MdB007.mscz'], returncode=0)\n",
      "CompletedProcess(args=['/Applications/MuseScore 4.app/Contents/MacOS/mscore', '-o', '/Users/bas/surfdrive/Research/Guidonian Hand/Corpus/Marot & de Bèze/pdf/MdB007.pdf', '/Users/bas/surfdrive/Research/Guidonian Hand/Corpus/Marot & de Bèze/musescore/MdB007.mscz'], returncode=0)\n"
     ]
    }
   ],
   "source": [
    "sources = glob.glob(f'{CORPUS_DIR}/**')\n",
    "refresh = False\n",
    "for source_dir in sources:\n",
    "    export_source(source_dir, target_ext='musicxml', refresh=refresh)\n",
    "    export_source(source_dir, target_ext='pdf', refresh=refresh)"
   ]
  },
  {
   "cell_type": "markdown",
   "metadata": {},
   "source": [
    "## Evaluate MdB"
   ]
  },
  {
   "cell_type": "code",
   "execution_count": 4,
   "metadata": {},
   "outputs": [],
   "source": [
    "MdB_META = yaml.safe_load(open(f'{MdB_DIR}/collection.yaml', 'r'))\n",
    "\n",
    "def process_MdB_work(source_fn, number='?'):\n",
    "    score = music21.converter.parse(source_fn)\n",
    "    solmization = Solmization(score)\n",
    "    solmization.annotate(score.parts[0],\n",
    "        target_lyrics=2, \n",
    "        lyric_offset=3,\n",
    "        grey_lyrics_num=1\n",
    "    )\n",
    "    score.metadata = music21.metadata.Metadata(\n",
    "        title=f'Psalm {number} (evaluation)',\n",
    "        composer=MdB_META['composer'],\n",
    "        lyricist='Automatic solmization: version 30 May 2024'\n",
    "    )\n",
    "    return score\n",
    "\n",
    "# score = process_MdB_work(f\"{MdB_DIR}/musicxml/MdB010.musicxml\", 1)"
   ]
  },
  {
   "cell_type": "code",
   "execution_count": 10,
   "metadata": {},
   "outputs": [],
   "source": [
    "refresh = False\n",
    "target_dir = f'{MdB_DIR}/evaluation'\n",
    "if not os.path.exists(target_dir):\n",
    "    os.makedirs(target_dir)\n",
    "\n",
    "for work in MdB_META['works']:\n",
    "    id = work['id']\n",
    "    source_fn = f\"{MdB_DIR}/musicxml/{id}.musicxml\"\n",
    "    target_fn = f'{target_dir}/{id}.pdf'\n",
    "    if not os.path.exists(target_fn) or refresh:\n",
    "        try:\n",
    "            score = process_MdB_work(source_fn, number=id)\n",
    "            score.write('musicxml.pdf', target_fn)\n",
    "        except Exception as e:\n",
    "            print('Skipped', source_fn)\n",
    "            print(e)   "
   ]
  },
  {
   "cell_type": "markdown",
   "metadata": {},
   "source": [
    "### **TO DO** Other collections"
   ]
  },
  {
   "cell_type": "code",
   "execution_count": 6,
   "metadata": {},
   "outputs": [
    {
     "name": "stdout",
     "output_type": "stream",
     "text": [
      "Error annotating note <music21.note.Note G>\n",
      "Error annotating note <music21.note.Note F>\n",
      "Error annotating note <music21.note.Note A>\n",
      "Error annotating note <music21.note.Note E>\n"
     ]
    }
   ],
   "source": [
    "target_dir = 'evaluation'\n",
    "refresh = True\n",
    "\n",
    "sources = glob.glob(f'{CORPUS_DIR}/**')\n",
    "for source_dir in sources[2:3]:\n",
    "    files = sorted(glob.glob(f'{source_dir}/musicxml/*.musicxml'))\n",
    "    if not os.path.exists(f'{source_dir}/{target_dir}'):\n",
    "        os.makedirs(f'{source_dir}/{target_dir}')\n",
    "    for file in files:\n",
    "        name, _ =  os.path.basename(file).split('.')\n",
    "        target_fn = f'{source_dir}/{target_dir}/{name}.pdf'\n",
    "        if not os.path.exists(target_fn) or refresh:\n",
    "            try:\n",
    "                score = converter.parse(file)\n",
    "                evaluateScore(score, onlyBest=False)\n",
    "                score.write('musicxml.pdf', target_fn)\n",
    "            except Exception as e:\n",
    "                print('Skipped', file)\n",
    "        "
   ]
  },
  {
   "cell_type": "code",
   "execution_count": null,
   "metadata": {},
   "outputs": [],
   "source": []
  },
  {
   "cell_type": "markdown",
   "metadata": {},
   "source": []
  }
 ],
 "metadata": {
  "kernelspec": {
   "display_name": "env",
   "language": "python",
   "name": "python3"
  },
  "language_info": {
   "codemirror_mode": {
    "name": "ipython",
    "version": 3
   },
   "file_extension": ".py",
   "mimetype": "text/x-python",
   "name": "python",
   "nbconvert_exporter": "python",
   "pygments_lexer": "ipython3",
   "version": "3.9.5"
  }
 },
 "nbformat": 4,
 "nbformat_minor": 2
}
